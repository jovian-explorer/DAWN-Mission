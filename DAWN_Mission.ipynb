{
  "nbformat": 4,
  "nbformat_minor": 0,
  "metadata": {
    "colab": {
      "name": "DAWN-Mission.ipynb",
      "provenance": [],
      "collapsed_sections": [],
      "authorship_tag": "ABX9TyOuTUip7DVW9hzXXEe7x3bP",
      "include_colab_link": true
    },
    "kernelspec": {
      "name": "python3",
      "display_name": "Python 3"
    },
    "language_info": {
      "name": "python"
    }
  },
  "cells": [
    {
      "cell_type": "markdown",
      "metadata": {
        "id": "view-in-github",
        "colab_type": "text"
      },
      "source": [
        "<a href=\"https://colab.research.google.com/github/mars-orbiter/DAWN-Mission/blob/main/DAWN_Mission.ipynb\" target=\"_parent\"><img src=\"https://colab.research.google.com/assets/colab-badge.svg\" alt=\"Open In Colab\"/></a>"
      ]
    },
    {
      "cell_type": "markdown",
      "source": [
        "### Importing Libraries"
      ],
      "metadata": {
        "id": "cYEI2zCecsBN"
      }
    },
    {
      "cell_type": "code",
      "source": [
        "import numpy as np\n",
        "import math as m\n",
        "import matplotlib.pyplot as plt\n",
        "from pylab import rcParams\n",
        "import pandas as pd"
      ],
      "metadata": {
        "id": "DXaaIAVKW5CS"
      },
      "execution_count": 14,
      "outputs": []
    },
    {
      "cell_type": "markdown",
      "source": [
        "### Importing data for DAWN"
      ],
      "metadata": {
        "id": "zawL8Lf-bJ8f"
      }
    },
    {
      "cell_type": "code",
      "source": [
        "#DATA FOR DAWN\n",
        "url = 'https://raw.githubusercontent.com/mars-orbiter/DAWN-Mission/main/DAWN/DawnFull.csv'\n",
        "DawnFull_tb = pd.read_csv(url,encoding='utf-8')\n",
        "pd.set_option(\"display.max_rows\", None, \"display.max_columns\", None)\n",
        "\n",
        "DawnData=DawnFull_tb*1000\n",
        "DawnData.columns = [\"JDTDB\",\"Calendar_Date\",\"X\",\"Y\",\"Z\",\"VX\",\"VY\",\"VZ\",\"LT\",\"RG\",\"RR\"]\n",
        "#storing values for each column into a separate list\n",
        "JDTDB = np.array(DawnData.JDTDB)\n",
        "Calendar_Date = np.array(DawnData.Calendar_Date)\n",
        "X = np.array(DawnData.X)\n",
        "Y = np.array(DawnData.Y)\n",
        "Z = np.array(DawnData.Z)\n",
        "VX = np.array(DawnData.VX)\n",
        "VY = np.array(DawnData.VY)\n",
        "VZ = np.array(DawnData.VZ)\n",
        "LT = np.array(DawnData.LT)\n",
        "RG = np.array(DawnData.RG)\n",
        "RR = np.array(DawnData.RR)"
      ],
      "metadata": {
        "id": "AfhtbAQMW_wE"
      },
      "execution_count": 15,
      "outputs": []
    },
    {
      "cell_type": "markdown",
      "source": [
        "### Importing data for Earth"
      ],
      "metadata": {
        "id": "plXrtLHjbPOT"
      }
    },
    {
      "cell_type": "code",
      "source": [
        "#DATA FOR Earth\n",
        "url = 'https://raw.githubusercontent.com/mars-orbiter/DAWN-Mission/main/Earth/EarthFull.csv'\n",
        "EarthFull_tb = pd.read_csv(url,encoding='utf-8')\n",
        "pd.set_option(\"display.max_rows\", None, \"display.max_columns\", None)\n",
        "\n",
        "EarthData=EarthFull_tb*1000\n",
        "EarthData.columns = [\"JDTDB\",\"Calendar_Date\",\"X\",\"Y\",\"Z\",\"VX\",\"VY\",\"VZ\",\"LT\",\"RG\",\"RR\"]\n",
        "#storing values for each column into a separate list\n",
        "JDTDB_e = np.array(EarthData.JDTDB)\n",
        "Calendar_Date_e = np.array(EarthData.Calendar_Date)\n",
        "X_e= np.array(EarthData.X)\n",
        "Y_e = np.array(EarthData.Y)\n",
        "Z_e = np.array(EarthData.Z)\n",
        "VX_e = np.array(EarthData.VX)\n",
        "VY_e = np.array(EarthData.VY)\n",
        "VZ_e = np.array(EarthData.VZ)\n",
        "LT_e = np.array(EarthData.LT)\n",
        "RG_e = np.array(EarthData.RG)\n",
        "RR_e = np.array(EarthData.RR)"
      ],
      "metadata": {
        "id": "t93v362lbUs0"
      },
      "execution_count": 16,
      "outputs": []
    },
    {
      "cell_type": "markdown",
      "source": [
        "### Importing data for Mars"
      ],
      "metadata": {
        "id": "Ygp15wt8cy8y"
      }
    },
    {
      "cell_type": "code",
      "source": [
        "#DATA FOR Mars\n",
        "url = 'https://raw.githubusercontent.com/mars-orbiter/DAWN-Mission/main/Mars/MarsFull.csv'\n",
        "MarsFull_tb = pd.read_csv(url,encoding='utf-8')\n",
        "pd.set_option(\"display.max_rows\", None, \"display.max_columns\", None)\n",
        "\n",
        "MarsData=MarsFull_tb*1000\n",
        "MarsData.columns = [\"JDTDB\",\"Calendar_Date\",\"X\",\"Y\",\"Z\",\"VX\",\"VY\",\"VZ\",\"LT\",\"RG\",\"RR\"]\n",
        "#storing values for each column into a separate list\n",
        "JDTDB_M = np.array(MarsData.JDTDB)\n",
        "Calendar_Date_M = np.array(MarsData.Calendar_Date)\n",
        "X_M= np.array(MarsData.X)\n",
        "Y_M = np.array(MarsData.Y)\n",
        "Z_M = np.array(MarsData.Z)\n",
        "VX_M = np.array(MarsData.VX)\n",
        "VY_M = np.array(MarsData.VY)\n",
        "VZ_M = np.array(MarsData.VZ)\n",
        "LT_M = np.array(MarsData.LT)\n",
        "RG_M = np.array(MarsData.RG)\n",
        "RR_M = np.array(MarsData.RR)"
      ],
      "metadata": {
        "id": "cZq1chEbcyj6"
      },
      "execution_count": 17,
      "outputs": []
    },
    {
      "cell_type": "markdown",
      "source": [
        "### Importing data for Vesta"
      ],
      "metadata": {
        "id": "lx_3uJUXeBM2"
      }
    },
    {
      "cell_type": "code",
      "source": [
        "#DATA FOR Vesta\n",
        "url = 'https://raw.githubusercontent.com/mars-orbiter/DAWN-Mission/main/Vesta/VestaFull.csv'\n",
        "VestaFull_tb = pd.read_csv(url,encoding='utf-8')\n",
        "pd.set_option(\"display.max_rows\", None, \"display.max_columns\", None)\n",
        "\n",
        "VestaData=VestaFull_tb*1000\n",
        "VestaData.columns = [\"JDTDB\",\"Calendar_Date\",\"X\",\"Y\",\"Z\",\"VX\",\"VY\",\"VZ\",\"LT\",\"RG\",\"RR\"]\n",
        "#storing values for each column into a separate list\n",
        "JDTDB_V = np.array(VestaData.JDTDB)\n",
        "Calendar_Date_V = np.array(VestaData.Calendar_Date)\n",
        "X_V= np.array(VestaData.X)\n",
        "Y_V = np.array(VestaData.Y)\n",
        "Z_V = np.array(VestaData.Z)\n",
        "VX_V = np.array(VestaData.VX)\n",
        "VY_V = np.array(VestaData.VY)\n",
        "VZ_V = np.array(VestaData.VZ)\n",
        "LT_V = np.array(VestaData.LT)\n",
        "RG_V = np.array(VestaData.RG)\n",
        "RR_V = np.array(VestaData.RR)"
      ],
      "metadata": {
        "id": "wIwVsct8eCDh"
      },
      "execution_count": 18,
      "outputs": []
    },
    {
      "cell_type": "markdown",
      "source": [
        "### Importing data for Ceres"
      ],
      "metadata": {
        "id": "Lv7rKKx_eCbr"
      }
    },
    {
      "cell_type": "code",
      "source": [
        "#DATA FOR Ceres\n",
        "url = 'https://raw.githubusercontent.com/mars-orbiter/DAWN-Mission/main/ceres/CeresFull.csv'\n",
        "CeresFull_tb = pd.read_csv(url,encoding='utf-8')\n",
        "pd.set_option(\"display.max_rows\", None, \"display.max_columns\", None)\n",
        "\n",
        "CeresData=CeresFull_tb*1000\n",
        "CeresData.columns = [\"JDTDB\",\"Calendar_Date\",\"X\",\"Y\",\"Z\",\"VX\",\"VY\",\"VZ\",\"LT\",\"RG\",\"RR\"]\n",
        "#storing values for each column into a separate list\n",
        "JDTDB_C = np.array(CeresData.JDTDB)\n",
        "Calendar_Date_C = np.array(CeresData.Calendar_Date)\n",
        "X_C= np.array(CeresData.X)\n",
        "Y_C = np.array(CeresData.Y)\n",
        "Z_C = np.array(CeresData.Z)\n",
        "VX_C = np.array(CeresData.VX)\n",
        "VY_C = np.array(CeresData.VY)\n",
        "VZ_C = np.array(CeresData.VZ)\n",
        "LT_C = np.array(CeresData.LT)\n",
        "RG_C = np.array(CeresData.RG)\n",
        "RR_C = np.array(CeresData.RR)"
      ],
      "metadata": {
        "id": "kfKpg3qHeCw_"
      },
      "execution_count": 19,
      "outputs": []
    },
    {
      "cell_type": "markdown",
      "source": [
        "### Defining some parameters"
      ],
      "metadata": {
        "id": "WHzwkN2ijGbh"
      }
    },
    {
      "cell_type": "code",
      "source": [
        "CalcX=[]\n",
        "CalcY=[]\n",
        "Thrust=np.zeros(2716)\n",
        "LambdMas=np.zeros(2716)\n",
        "days=np.arange(2716)+1\n",
        "SunParam=132712440018*pow(10,9);\n",
        "radius = m.sqrt(X[0]*X[0]+Y[0]*Y[0])\n",
        "radius0 = radius\n",
        "angle = m.atan(Y[0]/X[0])\n",
        "V0=np.array([-3.267334027266680E+00,3.345804245220296E+01])*1000\n",
        "mV0=m.sqrt(V0[0]*V0[0]+V0[1]*V0[1])\n",
        "Vmars=np.array([2.239956000086868E+01, 1.417958296152212E+01])*1000\n",
        "rV=(X[0]*V0[0]+Y[0]*V0[1])/radius\n",
        "phiV=m.sqrt(mV0*mV0-rV*rV)\n",
        "m0=747.1+425+45.6\n",
        "c0=26000\n",
        "fuel = 425\n",
        "k = np.zeros(4)\n",
        "q = np.zeros(4)\n",
        "day = 0\n",
        "dday = 1\n",
        "mas=747.1+fuel+45.6\n"
      ],
      "metadata": {
        "id": "_BAeMEf7jJpU"
      },
      "execution_count": 20,
      "outputs": []
    },
    {
      "cell_type": "markdown",
      "source": [
        "### Code"
      ],
      "metadata": {
        "id": "znu3sLDcb0AX"
      }
    },
    {
      "cell_type": "code",
      "execution_count": 21,
      "metadata": {
        "id": "OiBjx3NuW01I"
      },
      "outputs": [],
      "source": [
        "##fly near Mars\n",
        "\n",
        "while day < 510:\n",
        "    CalcX.append(radius*m.cos(angle))\n",
        "    CalcY.append(radius*m.sin(angle))\n",
        "    F0=3*50*0.000\n",
        "    lambd=m.pi/2\n",
        "    if day > 50 and day <300:\n",
        "        F0=3*90*0.001 * pow((radius0/radius),2)     \n",
        "        lambd=m.pi/2+m.pi/2.6\n",
        "    if day > 299 and day <500:\n",
        "        F0=3*90*0.001 * pow((radius0/radius),2)     \n",
        "        lambd=m.pi/2\n",
        "    LambdMas[day-1]=lambd\n",
        "    Thrust[day-1]=F0\n",
        "    a = F0/mas\n",
        "    consumption=F0/c0\n",
        "    angle = angle + (phiV/radius)*dday*24*3600\n",
        "    radius = radius + rV * dday*24*3600\n",
        "    rV=rV+(pow(phiV,2)/radius-SunParam/pow(radius,2)+m.cos(lambd)*a)*dday*24*3600\n",
        "    phiV=phiV+(-(rV*phiV)/radius+m.sin(lambd)*a)*dday*24*3600\n",
        "    mas=mas-consumption*dday*24*3600\n",
        "    day = day + dday \n",
        "radius = m.sqrt(X_M[-1]*X_M[-1]+Y_M[-1]*Y_M[-1])\n",
        "angle = m.atan(Y_M[-1]/X_M[-1])\n",
        "rV=(X_M[-1]*Vmars[0]+Y_M[-1]*Vmars[1])/radius\n",
        "mV0=m.sqrt(Vmars[0]*Vmars[0]+Vmars[1]*Vmars[1])\n",
        "phiV=m.sqrt(mV0*mV0-rV*rV)\n",
        "V=m.sqrt(phiV*phiV+rV*rV)/1000\n",
        "\n",
        "##fly to Vesta\n",
        "\n",
        "while day > 509 and day < 1357:\n",
        "    CalcX.append(radius*m.cos(angle))\n",
        "    CalcY.append(radius*m.sin(angle))\n",
        "    F0=3*50*0.000\n",
        "    lambd=m.pi/2\n",
        "    if day > 723 and day <1250:\n",
        "        F0=3*90*0.001 * pow((radius0/radius),2)      \n",
        "        lambd=m.pi/2+m.pi/200\n",
        "    LambdMas[day-1]=lambd\n",
        "    Thrust[day-1]=F0\n",
        "    a = F0/mas\n",
        "    consumption=F0/c0\n",
        "    angle = angle + (phiV/radius)*dday*24*3600\n",
        "    radius = radius + rV * dday*24*3600\n",
        "    rV=rV+(pow(phiV,2)/radius-SunParam/pow(radius,2)+m.cos(lambd)*a)*dday*24*3600\n",
        "    phiV=phiV+(-(rV*phiV)/radius+m.sin(lambd)*a)*dday*24*3600\n",
        "    mas=mas-consumption*dday*24*3600\n",
        "    day = day + dday \n",
        "V=m.sqrt(phiV*phiV+rV*rV)/1000\n",
        "\n",
        "##around Vesta\n",
        "while day > 1356 and day < 1804:\n",
        "     lambd=m.pi/2\n",
        "     LambdMas[day-1]=lambd\n",
        "     CalcX.append(X[day])\n",
        "     CalcY.append(Y[day])\n",
        "     day = day + dday\n",
        "\n",
        "##fly to Ceres\n",
        "Vvesta=np.array([-1.430410330851633E+01, 1.056459146838846E+01])*1000\n",
        "radius = m.sqrt(X[1804]*X[1804]+Y[1804]*Y[1804])\n",
        "angle = m.atan(Y[1804]/X[1804])\n",
        "rV=(X[1804]*Vvesta[0]+Y[1804]*Vvesta[1])/radius\n",
        "mV0=m.sqrt(Vvesta[0]*Vvesta[0]+Vvesta[1]*Vvesta[1])\n",
        "phiV=m.sqrt(mV0*mV0-rV*rV)\n",
        "V=m.sqrt(phiV*phiV+rV*rV)/1000\n",
        "\n",
        "while day > 1803 and day < 2716:\n",
        "    CalcX.append(radius*m.cos(angle))\n",
        "    CalcY.append(radius*m.sin(angle))\n",
        "    F0=3*50*0.000\n",
        "    lambd=m.pi/2\n",
        "    if day > 1890 and day <2300:\n",
        "        F0=3*90*0.001 * pow((radius0/radius),2)      \n",
        "        lambd=m.pi/2\n",
        "    LambdMas[day-1]=lambd\n",
        "    Thrust[day-1]=F0\n",
        "    a = F0/mas\n",
        "    consumption=F0/c0\n",
        "    angle = angle + (phiV/radius)*dday*24*3600\n",
        "    radius = radius + rV * dday*24*3600\n",
        "    rV=rV+(pow(phiV,2)/radius-SunParam/pow(radius,2)+m.cos(lambd)*a)*dday*24*3600\n",
        "    phiV=phiV+(-(rV*phiV)/radius+m.sin(lambd)*a)*dday*24*3600\n",
        "    mas=mas-consumption*dday*24*3600\n",
        "    day = day + dday \n",
        "V=m.sqrt(phiV*phiV+rV*rV)/1000"
      ]
    },
    {
      "cell_type": "markdown",
      "source": [
        "### Generating plots"
      ],
      "metadata": {
        "id": "qPxWzmVTivKM"
      }
    },
    {
      "cell_type": "code",
      "source": [
        "# #PLOTTING GRAPHS\n",
        "# plt.plot(X,Y,color='black',label='Spacecraft trajectory Dawn JPL')\n",
        "# plt.scatter(0,0, color='yellow', s=100, marker='o')\n",
        "# plt.scatter(X[1],Y[1], color='green', s=40, marker='o')\n",
        "\n",
        "# plt.plot(X_e,Y_e,color='green',label='Earth orbit')\n",
        "\n",
        "# plt.plot(X_M,Y_M,color='red',label='Mars Orbit')\n",
        "# plt.scatter(X_M[-1],Y_M[-1], color='red', s=40, marker='o')\n",
        "\n",
        "# plt.plot(X_V,Y_V,color='cyan',label='Orbit of Vesta')\n",
        "# plt.scatter(X_V[-1],Y_V[-1], color='cyan', s=40, marker='o')\n",
        "\n",
        "# plt.plot(X_C,Y_C,color='blue',label='Orbit of Ceres')\n",
        "# plt.scatter(X_C[2715],Y_C[2715], color='blue', s=40, marker='o')\n",
        "\n",
        "# plt.scatter(X[1804],Y[1804], color='cyan', s=40, marker='x')\n",
        "# plt.plot(CalcX,CalcY,color='orange',label='Spacecraft trajectory Dawn calculation')\n",
        "\n",
        "# rcParams['figure.figsize'] = 20,16                                              #figure size\n",
        "# rcParams[\"figure.dpi\"] = 2000                                                   #figure dpi\n",
        "# plt.legend(loc=2)\n",
        "# plt.axis('equal')\n",
        "# plt.xlim([1, 2714])\n",
        "# plt.grid()\n",
        "# plt.show()"
      ],
      "metadata": {
        "id": "ljkqM6doiq3u"
      },
      "execution_count": 22,
      "outputs": []
    },
    {
      "cell_type": "code",
      "source": [
        "plt.plot(days,Thrust*1000,'red',label = \"thrust\")\n",
        "plt.plot(days,LambdMas*180/np.pi,'blue',label = \"angle of rotation\")\n",
        "\n",
        "plt.xlabel(\"Days\")\n",
        "plt.xlim([1, 2714])\n",
        "plt.ylim([-100, 300])\n",
        "plt.legend()\n",
        "plt.grid()\n",
        "plt.show()"
      ],
      "metadata": {
        "colab": {
          "base_uri": "https://localhost:8080/",
          "height": 283
        },
        "id": "KCb3f1rNppzR",
        "outputId": "31aa495f-b730-458b-940a-6d6e52f2957f"
      },
      "execution_count": 46,
      "outputs": [
        {
          "output_type": "display_data",
          "data": {
            "image/png": "[encoded data removed]",
            "text/plain": [
              "<Figure size 432x288 with 1 Axes>"
            ]
          },
          "metadata": {
            "needs_background": "light"
          }
        }
      ]
    }
  ]
}